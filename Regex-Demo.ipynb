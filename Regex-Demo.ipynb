{
 "cells": [
  {
   "cell_type": "code",
   "execution_count": 1,
   "id": "714ee5cb",
   "metadata": {},
   "outputs": [],
   "source": [
    "import re"
   ]
  },
  {
   "cell_type": "code",
   "execution_count": 33,
   "id": "ac2e6e86",
   "metadata": {},
   "outputs": [],
   "source": [
    "text_to_search = '''\n",
    "naren@gmail.com\n",
    "mohan.com\n",
    "naren@mohan\n",
    "'''"
   ]
  },
  {
   "cell_type": "code",
   "execution_count": 40,
   "id": "931eca46",
   "metadata": {},
   "outputs": [],
   "source": [
    "email_pattern = re.compile(r'\\w*@\\w*\\.\\w*')"
   ]
  },
  {
   "cell_type": "code",
   "execution_count": 41,
   "id": "33142876",
   "metadata": {},
   "outputs": [],
   "source": [
    "span = pattern.finditer(text_to_search)"
   ]
  },
  {
   "cell_type": "code",
   "execution_count": 42,
   "id": "c743368a",
   "metadata": {},
   "outputs": [
    {
     "name": "stdout",
     "output_type": "stream",
     "text": [
      "<re.Match object; span=(1, 16), match='naren@gmail.com'>\n"
     ]
    }
   ],
   "source": [
    "for match in span:\n",
    "    print(match)"
   ]
  },
  {
   "cell_type": "code",
   "execution_count": 50,
   "id": "9ecf0245",
   "metadata": {},
   "outputs": [],
   "source": [
    "text_to_search = '''\n",
    "Ha\n",
    "HaHa\n",
    "Ha Ha Ha\n",
    "'''"
   ]
  },
  {
   "cell_type": "code",
   "execution_count": 65,
   "id": "28fa1799",
   "metadata": {},
   "outputs": [],
   "source": [
    "pattern = re.compile(r'Ha\\b')"
   ]
  },
  {
   "cell_type": "code",
   "execution_count": 66,
   "id": "17f54d15",
   "metadata": {},
   "outputs": [],
   "source": [
    "matches = pattern.finditer(text_to_search)"
   ]
  },
  {
   "cell_type": "code",
   "execution_count": 67,
   "id": "b390f9ac",
   "metadata": {},
   "outputs": [
    {
     "name": "stdout",
     "output_type": "stream",
     "text": [
      "<re.Match object; span=(1, 3), match='Ha'>\n",
      "<re.Match object; span=(6, 8), match='Ha'>\n",
      "<re.Match object; span=(9, 11), match='Ha'>\n",
      "<re.Match object; span=(12, 14), match='Ha'>\n",
      "<re.Match object; span=(15, 17), match='Ha'>\n"
     ]
    }
   ],
   "source": [
    "for match in matches:\n",
    "    print(match)"
   ]
  },
  {
   "cell_type": "code",
   "execution_count": 68,
   "id": "2fdc6a51",
   "metadata": {},
   "outputs": [],
   "source": [
    "text_to_search = '''\n",
    "Start is the new end\n",
    "'''"
   ]
  },
  {
   "cell_type": "code",
   "execution_count": 76,
   "id": "df01b9e8",
   "metadata": {},
   "outputs": [],
   "source": [
    "p1 = re.compile(r'^\\nStart')\n",
    "p2 = re.compile(r'end$')"
   ]
  },
  {
   "cell_type": "code",
   "execution_count": 77,
   "id": "336ce7ee",
   "metadata": {},
   "outputs": [],
   "source": [
    "m1 = p1.finditer(text_to_search)\n",
    "m2 = p2.finditer(text_to_search)"
   ]
  },
  {
   "cell_type": "code",
   "execution_count": 78,
   "id": "d682277e",
   "metadata": {},
   "outputs": [
    {
     "name": "stdout",
     "output_type": "stream",
     "text": [
      "<re.Match object; span=(0, 6), match='\\nStart'>\n"
     ]
    }
   ],
   "source": [
    "for m in m1:\n",
    "    print(m)\n",
    "\n"
   ]
  },
  {
   "cell_type": "code",
   "execution_count": 92,
   "id": "20d39815",
   "metadata": {},
   "outputs": [],
   "source": [
    "text_to_search = '''\n",
    "333-123-1234\n",
    "33-1234-1234\n",
    "333.123.2341\n",
    "'''"
   ]
  },
  {
   "cell_type": "code",
   "execution_count": 97,
   "id": "7ebb8fde",
   "metadata": {},
   "outputs": [],
   "source": [
    "pattern = re.compile(r'\\d\\d\\d\\W\\d\\d\\d\\W\\d\\d\\d\\d')"
   ]
  },
  {
   "cell_type": "code",
   "execution_count": 98,
   "id": "d8cc4438",
   "metadata": {},
   "outputs": [],
   "source": [
    "matches = pattern.finditer(text_to_search)"
   ]
  },
  {
   "cell_type": "code",
   "execution_count": 100,
   "id": "1a5b4def",
   "metadata": {},
   "outputs": [
    {
     "name": "stdout",
     "output_type": "stream",
     "text": [
      "<re.Match object; span=(27, 39), match='333.123.2341'>\n"
     ]
    }
   ],
   "source": [
    "for m in matches:\n",
    "    print(m)"
   ]
  },
  {
   "cell_type": "code",
   "execution_count": 138,
   "id": "3b5457b3",
   "metadata": {},
   "outputs": [],
   "source": [
    "text_to_search = '''\n",
    "https://google.com\n",
    "http://www.google.com\n",
    "http://google.com\n",
    "https://www.google.gov\n",
    "'''"
   ]
  },
  {
   "cell_type": "code",
   "execution_count": 145,
   "id": "b15ed8a9",
   "metadata": {},
   "outputs": [],
   "source": [
    "pattern1 = re.compile(r'https?://(www\\.)?([a-zA-Z0-9]+)(\\.[a-zA-Z]+)')\n",
    "pattern2 = re.compile(r'(/|\\.)[a-zA-Z0-9]+\\.[a-z]+')\n",
    "matches = pattern1.finditer(text_to_search)"
   ]
  },
  {
   "cell_type": "code",
   "execution_count": 147,
   "id": "e264108e",
   "metadata": {},
   "outputs": [
    {
     "name": "stdout",
     "output_type": "stream",
     "text": [
      "\n",
      "google.com\n",
      "google.com\n",
      "google.com\n",
      "google.gov\n",
      "\n"
     ]
    }
   ],
   "source": [
    "# for m in matches:\n",
    "#     print(m.group(3))\n",
    "\n",
    "p = pattern1.sub(r'\\2\\3', text_to_search)\n",
    "print(p)"
   ]
  },
  {
   "cell_type": "code",
   "execution_count": 148,
   "id": "4f0ad048",
   "metadata": {},
   "outputs": [],
   "source": [
    "text_to_search = 'Bad, bit, Behr,,,,,,,love love'"
   ]
  },
  {
   "cell_type": "code",
   "execution_count": 153,
   "id": "c94a468d",
   "metadata": {},
   "outputs": [
    {
     "name": "stdout",
     "output_type": "stream",
     "text": [
      "Bad, bit, Behr,love love\n"
     ]
    }
   ],
   "source": [
    "pattern = re.compile(r'[^,,+]')\n",
    "p2 = re.sub(r',,+', ',', text_to_search)\n",
    "print(p2)"
   ]
  },
  {
   "cell_type": "code",
   "execution_count": 150,
   "id": "6ed7c7fd",
   "metadata": {},
   "outputs": [],
   "source": [
    "matches = pattern.finditer(text_to_search)"
   ]
  },
  {
   "cell_type": "code",
   "execution_count": 151,
   "id": "099d84a7",
   "metadata": {
    "scrolled": true
   },
   "outputs": [
    {
     "name": "stdout",
     "output_type": "stream",
     "text": [
      "<re.Match object; span=(0, 1), match='B'>\n",
      "<re.Match object; span=(1, 2), match='a'>\n",
      "<re.Match object; span=(2, 3), match='d'>\n",
      "<re.Match object; span=(4, 5), match=' '>\n",
      "<re.Match object; span=(5, 6), match='b'>\n",
      "<re.Match object; span=(6, 7), match='i'>\n",
      "<re.Match object; span=(7, 8), match='t'>\n",
      "<re.Match object; span=(9, 10), match=' '>\n",
      "<re.Match object; span=(10, 11), match='B'>\n",
      "<re.Match object; span=(11, 12), match='e'>\n",
      "<re.Match object; span=(12, 13), match='h'>\n",
      "<re.Match object; span=(13, 14), match='r'>\n",
      "<re.Match object; span=(21, 22), match='l'>\n",
      "<re.Match object; span=(22, 23), match='o'>\n",
      "<re.Match object; span=(23, 24), match='v'>\n",
      "<re.Match object; span=(24, 25), match='e'>\n",
      "<re.Match object; span=(25, 26), match=' '>\n",
      "<re.Match object; span=(26, 27), match='l'>\n",
      "<re.Match object; span=(27, 28), match='o'>\n",
      "<re.Match object; span=(28, 29), match='v'>\n",
      "<re.Match object; span=(29, 30), match='e'>\n"
     ]
    }
   ],
   "source": [
    "for m in matches:\n",
    "    print(m)"
   ]
  },
  {
   "cell_type": "code",
   "execution_count": 165,
   "id": "c0593913",
   "metadata": {},
   "outputs": [
    {
     "data": {
      "text/plain": [
       "<re.Match object; span=(0, 5), match='naren'>"
      ]
     },
     "execution_count": 165,
     "metadata": {},
     "output_type": "execute_result"
    }
   ],
   "source": [
    "#Positive look ahead is used to match the text that is right to the current position\n",
    "#?=[]\n",
    "\n",
    "text_to_search = 'naren123'\n",
    "pattern = re.compile(r'naren(?=[a-z1-2])')\n",
    "pattern.search(text_to_search)"
   ]
  },
  {
   "cell_type": "markdown",
   "id": "106e140d",
   "metadata": {},
   "source": [
    "#### Advantages of using look ahead or look behind\n",
    "- They are used as an assertion in regex matching\n",
    "- It will only look ahead or look before and confirm if that characters are present but not match those characters\n",
    "- This lets us check if something is present on the right side and only if something is present on the right side, the left side portion, gets matched"
   ]
  },
  {
   "cell_type": "code",
   "execution_count": 170,
   "id": "63395d1d",
   "metadata": {},
   "outputs": [
    {
     "data": {
      "text/plain": [
       "<re.Match object; span=(0, 5), match='naren'>"
      ]
     },
     "execution_count": 170,
     "metadata": {},
     "output_type": "execute_result"
    }
   ],
   "source": [
    "#Negative look ahead is the opposite of Positive look ahead. It rejects if there is something present in the right side that matches\n",
    "#?![]\n",
    "\n",
    "text_to_search = 'naren123'\n",
    "re.search(r'naren(?![a-z])', text_to_search)"
   ]
  },
  {
   "cell_type": "code",
   "execution_count": 181,
   "id": "ed462b4d",
   "metadata": {},
   "outputs": [
    {
     "data": {
      "text/plain": [
       "'123'"
      ]
     },
     "execution_count": 181,
     "metadata": {},
     "output_type": "execute_result"
    }
   ],
   "source": [
    "#Positive look behind is also used as an assertion in regex i.e., to confirm if there is a match before other parts of the string\n",
    "#?<=[]\n",
    "\n",
    "text_to_search = 'naren123'\n",
    "pattern = re.search(r'(?<=[a-z])123', text_to_search)\n",
    "pattern.group()"
   ]
  },
  {
   "cell_type": "code",
   "execution_count": 191,
   "id": "c1ae2c52",
   "metadata": {},
   "outputs": [
    {
     "data": {
      "text/plain": [
       "<re.Match object; span=(5, 8), match='123'>"
      ]
     },
     "execution_count": 191,
     "metadata": {},
     "output_type": "execute_result"
    }
   ],
   "source": [
    "#Negative look behind is the opposite of Positive look behind in regex\n",
    "#?<![]\n",
    "text_to_search = 'NAREN123'\n",
    "pattern = re.search(r'(?<![a-z])123', text_to_search)\n",
    "pattern"
   ]
  },
  {
   "cell_type": "code",
   "execution_count": null,
   "id": "8e17c4dc",
   "metadata": {},
   "outputs": [],
   "source": []
  }
 ],
 "metadata": {
  "kernelspec": {
   "display_name": "Python 3",
   "language": "python",
   "name": "python3"
  },
  "language_info": {
   "codemirror_mode": {
    "name": "ipython",
    "version": 3
   },
   "file_extension": ".py",
   "mimetype": "text/x-python",
   "name": "python",
   "nbconvert_exporter": "python",
   "pygments_lexer": "ipython3",
   "version": "3.7.3"
  }
 },
 "nbformat": 4,
 "nbformat_minor": 5
}
