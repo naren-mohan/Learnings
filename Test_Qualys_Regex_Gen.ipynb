{
 "cells": [
  {
   "cell_type": "code",
   "execution_count": 1,
   "id": "43555419",
   "metadata": {},
   "outputs": [],
   "source": [
    "import pandas as pd"
   ]
  },
  {
   "cell_type": "code",
   "execution_count": 36,
   "id": "63e6d2ec",
   "metadata": {},
   "outputs": [],
   "source": [
    "df = pd.read_excel('AP_Test.xlsx')"
   ]
  },
  {
   "cell_type": "code",
   "execution_count": 37,
   "id": "2fca23e9",
   "metadata": {},
   "outputs": [],
   "source": [
    "company_list = df['Company'].unique()"
   ]
  },
  {
   "cell_type": "code",
   "execution_count": 38,
   "id": "f550de4e",
   "metadata": {},
   "outputs": [],
   "source": [
    "filt = df['Company'] == company_list[2]\n",
    "df2 = '^' + df[filt]['Name'].str.strip().str.lower() + '(\\\\W\\\\w+)*$|'"
   ]
  },
  {
   "cell_type": "code",
   "execution_count": 43,
   "id": "4b442fa3",
   "metadata": {},
   "outputs": [
    {
     "data": {
      "text/plain": [
       "'^apccmvm10-en12(\\\\W\\\\w+)*$|^apccmvm10-en16(\\\\W\\\\w+)*$|^apccmvm10-en20(\\\\W\\\\w+)*$|^sgcbp5cg0095rxc(\\\\W\\\\w+)*$|^sgcbp5cg0095rxd(\\\\W\\\\w+)*$|^sgcbp5cg0095rxg(\\\\W\\\\w+)*$|^sgcbp5cg02633nb(\\\\W\\\\w+)*$|^sgcbp5cg02633nc(\\\\W\\\\w+)*$|^sgcbp5cg02633nd(\\\\W\\\\w+)*$|^sgcbp5cg02633nf(\\\\W\\\\w+)*$|^sgcbp5cg02633ng(\\\\W\\\\w+)*$|^sgcbp5cg02633nh(\\\\W\\\\w+)*$|^sgcbp5cg02633nk(\\\\W\\\\w+)*$|^sgcbp5cg02633nn(\\\\W\\\\w+)*$|^sgcbp5cg02633nq(\\\\W\\\\w+)*$|^sgcbp5cg02633nv(\\\\W\\\\w+)*$|^sgcbp5cg02633nw(\\\\W\\\\w+)*$|^sgcbp5cg02633nz(\\\\W\\\\w+)*$|^sgcbp5cg91519qb(\\\\W\\\\w+)*$|^sgcbp5cg91519qs(\\\\W\\\\w+)*$|^sgccmvmw10-cn20(\\\\W\\\\w+)*$|^sgccmvmw10-cn21(\\\\W\\\\w+)*$|^sgccmvmw10-en20(\\\\W\\\\w+)*$|^sgccmvmw10-en21(\\\\W\\\\w+)*$|^sgegismar18001(\\\\W\\\\w+)*$|^sggissapr17042(\\\\W\\\\w+)*$|^sggissaug17003(\\\\W\\\\w+)*$|^sggissaug17009(\\\\W\\\\w+)*$|^sggissaug17026(\\\\W\\\\w+)*$|^sggissaug17050(\\\\W\\\\w+)*$|^sggissaug17053(\\\\W\\\\w+)*$|^sggissjul17015(\\\\W\\\\w+)*$|^sggissjul17018(\\\\W\\\\w+)*$|^sggissjun17003(\\\\W\\\\w+)*$|^sggissjun17008(\\\\W\\\\w+)*$|^sggissmar141029(\\\\W\\\\w+)*$|^sggissmay17009(\\\\W\\\\w+)*$|^sggissnov17003(\\\\W\\\\w+)*$|^sggissoct17001(\\\\W\\\\w+)*$|^sggisssep17001(\\\\W\\\\w+)*$|^sggisssep17007(\\\\W\\\\w+)*$|^sggtodec17001(\\\\W\\\\w+)*$|^sgibp5cd84372v3(\\\\W\\\\w+)*$|^sgibp5cg01496rp(\\\\W\\\\w+)*$|^sgibp5cg0159j42(\\\\W\\\\w+)*$|^sgibp5cg0159j44(\\\\W\\\\w+)*$|^sgibp5cg0159j45(\\\\W\\\\w+)*$|^sgibp5cg0159j46(\\\\W\\\\w+)*$|^sgibp5cg0159j47(\\\\W\\\\w+)*$|^sgibp5cg0159j4l(\\\\W\\\\w+)*$|^sgibp5cg0159j4m(\\\\W\\\\w+)*$|^sgibp5cg0159j4n(\\\\W\\\\w+)*$|^sgibp5cg0159j4p(\\\\W\\\\w+)*$|^sgibp5cg0159j50(\\\\W\\\\w+)*$|^sgibp5cg0159j52(\\\\W\\\\w+)*$|^sgibp5cg0159j53(\\\\W\\\\w+)*$|^sgibp5cg0159j55(\\\\W\\\\w+)*$|^sgibp5cg032163f(\\\\W\\\\w+)*$|^sgibp5cg032163h(\\\\W\\\\w+)*$|^sgibp5cg032163k(\\\\W\\\\w+)*$|^sgibp5cg032163m(\\\\W\\\\w+)*$|^sgibp5cg032163t(\\\\W\\\\w+)*$|^sgibp5cg032163w(\\\\W\\\\w+)*$|^sgibp5cg032163z(\\\\W\\\\w+)*$|^sgibp5cg0321641(\\\\W\\\\w+)*$|^sgibp5cg0321642(\\\\W\\\\w+)*$|^sgibp5cg0512yym(\\\\W\\\\w+)*$|^sgibp5cg0512yz0(\\\\W\\\\w+)*$|^sgibp5cg0512yzj(\\\\W\\\\w+)*$|^sgibp5cg0512yzp(\\\\W\\\\w+)*$|^sgibp5cg0514kr1(\\\\W\\\\w+)*$|^sgibp5cg1096gsg(\\\\W\\\\w+)*$|^sgibp5cg1096gst(\\\\W\\\\w+)*$|^sgibp5cg1135dwk(\\\\W\\\\w+)*$|^sgibp5cg1135dwr(\\\\W\\\\w+)*$|^sgibp5cg1135dwy(\\\\W\\\\w+)*$|^sgibp5cg44145cq(\\\\W\\\\w+)*$|^sgibp5cg44145dw(\\\\W\\\\w+)*$|^sgibp5cg5041bz8(\\\\W\\\\w+)*$|^sgibp5cg5041c2b(\\\\W\\\\w+)*$|^sgibp5cg5264my7(\\\\W\\\\w+)*$|^sgibp5cg5264n6d(\\\\W\\\\w+)*$|^sgibp5cg5264n6l(\\\\W\\\\w+)*$|^sgibp5cg5366k0t(\\\\W\\\\w+)*$|^sgibp5cg606227r(\\\\W\\\\w+)*$|^sgibp5cg606229b(\\\\W\\\\w+)*$|^sgibp5cg60622cm(\\\\W\\\\w+)*$|^sgibp5cg60622cy(\\\\W\\\\w+)*$|^sgibp5cg60622fq(\\\\W\\\\w+)*$|^sgibp5cg60622hg(\\\\W\\\\w+)*$|^sgibp5cg60622vy(\\\\W\\\\w+)*$|^sgibp5cg60622x6(\\\\W\\\\w+)*$|^sgibp5cg60622xf(\\\\W\\\\w+)*$|^sgibp5cg6062325(\\\\W\\\\w+)*$|^sgibp5cg606233q(\\\\W\\\\w+)*$|^sgibp5cg60700qt(\\\\W\\\\w+)*$|^sgibp5cg60700rm(\\\\W\\\\w+)*$|^sgibp5cg60700ts(\\\\W\\\\w+)*$|^sgibp5cg60700vm(\\\\W\\\\w+)*$|^sgibp5cg6242qxg(\\\\W\\\\w+)*$|^sgibp5cg6242qzl(\\\\W\\\\w+)*$|^sgibp5cg6242qzr(\\\\W\\\\w+)*$|^sgibp5cg6242r0y(\\\\W\\\\w+)*$|^sgibp5cg6242r1b(\\\\W\\\\w+)*$|^sgibp5cg6242r44(\\\\W\\\\w+)*$|^sgibp5cg6301yxd(\\\\W\\\\w+)*$|^sgibp5cg6301z5m(\\\\W\\\\w+)*$|^sgibp5cg6421vfw(\\\\W\\\\w+)*$|^sgibp5cg6421vqk(\\\\W\\\\w+)*$|^sgibp5cg7072dqt(\\\\W\\\\w+)*$|^sgibp5cg7072dsr(\\\\W\\\\w+)*$|^sgibp5cg7072dsx(\\\\W\\\\w+)*$|^sgibp5cg7072dtn(\\\\W\\\\w+)*$|^sgibp5cg7072dtz(\\\\W\\\\w+)*$|^sgibp5cg70743g0(\\\\W\\\\w+)*$|^sgibp5cg70743k4(\\\\W\\\\w+)*$|^sgibp5cg70743q0(\\\\W\\\\w+)*$|^sgibp5cg70743rc(\\\\W\\\\w+)*$|^sgibp5cg7244yc8(\\\\W\\\\w+)*$|^sgibp5cg7244ych(\\\\W\\\\w+)*$|^sgibp5cg7244yxr(\\\\W\\\\w+)*$|^sgibp5cg7244yy6(\\\\W\\\\w+)*$|^sgibp5cg7244yyw(\\\\W\\\\w+)*$|^sgibp5cg7244yzw(\\\\W\\\\w+)*$|^sgibp5cg7244z12(\\\\W\\\\w+)*$|^sgibp5cg7244z1w(\\\\W\\\\w+)*$|^sgibp5cg7244z22(\\\\W\\\\w+)*$|^sgibp5cg7244z26(\\\\W\\\\w+)*$|^sgibp5cg7430vvl(\\\\W\\\\w+)*$|^sgibp5cg7491l0h(\\\\W\\\\w+)*$|^sgibp5cg8101llk(\\\\W\\\\w+)*$|^sgibp5cg8101llp(\\\\W\\\\w+)*$|^sgibp5cg8101llx(\\\\W\\\\w+)*$|^sgibp5cg8101llz(\\\\W\\\\w+)*$|^sgibp5cg8101lm3(\\\\W\\\\w+)*$|^sgibp5cg8101lm7(\\\\W\\\\w+)*$|^sgibp5cg8101lmd(\\\\W\\\\w+)*$|^sgibp5cg8101lmv(\\\\W\\\\w+)*$|^sgibp5cg8101lmx(\\\\W\\\\w+)*$|^sgibp5cg8101ln3(\\\\W\\\\w+)*$|^sgibp5cg8101lnb(\\\\W\\\\w+)*$|^sgibp5cg8101lnm(\\\\W\\\\w+)*$|^sgibp5cg8101lp2(\\\\W\\\\w+)*$|^sgibp5cg8101lp6(\\\\W\\\\w+)*$|^sgibp5cg8101lph(\\\\W\\\\w+)*$|^sgibp5cg8101lq1(\\\\W\\\\w+)*$|^sgibp5cg8101lqg(\\\\W\\\\w+)*$|^sgibp5cg8101lqj(\\\\W\\\\w+)*$|^sgibp5cg8101lqn(\\\\W\\\\w+)*$|^sgibp5cg8101lqr(\\\\W\\\\w+)*$|^sgibp5cg8101lr6(\\\\W\\\\w+)*$|^sgibp5cg8101ls0(\\\\W\\\\w+)*$|^sgibp5cg8101ls3(\\\\W\\\\w+)*$|^sgibp5cg8101ls9(\\\\W\\\\w+)*$|^sgibp5cg8101lsv(\\\\W\\\\w+)*$|^sgibp5cg8101lt0(\\\\W\\\\w+)*$|^sgibp5cg8101ltl(\\\\W\\\\w+)*$|^sgibp5cg8101ltr(\\\\W\\\\w+)*$|^sgibp5cg8101ltx(\\\\W\\\\w+)*$|^sgibp5cg8101lv7(\\\\W\\\\w+)*$|^sgibp5cg8101lvs(\\\\W\\\\w+)*$|^sgibp5cg8101lvz(\\\\W\\\\w+)*$|^sgibp5cg8101lws(\\\\W\\\\w+)*$|^sgibp5cg8101lxd(\\\\W\\\\w+)*$|^sgibp5cg8101lxg(\\\\W\\\\w+)*$|^sgibp5cg8101lxm(\\\\W\\\\w+)*$|^sgibp5cg8101ly0(\\\\W\\\\w+)*$|^sgibp5cg8101ly6(\\\\W\\\\w+)*$|^sgibp5cg8101lyc(\\\\W\\\\w+)*$|^sgibp5cg8101lyh(\\\\W\\\\w+)*$|^sgibp5cg8101lyw(\\\\W\\\\w+)*$|^sgibp5cg8101lz2(\\\\W\\\\w+)*$|^sgibp5cg8101lz6(\\\\W\\\\w+)*$|^sgibp5cg8101lzm(\\\\W\\\\w+)*$|^sgibp5cg8101lzq(\\\\W\\\\w+)*$|^sgibp5cg8101lzy(\\\\W\\\\w+)*$|^sgibp5cg8101m06(\\\\W\\\\w+)*$|^sgibp5cg8101m0b(\\\\W\\\\w+)*$|^sgibp5cg8101m0g(\\\\W\\\\w+)*$|^sgibp5cg8101m0m(\\\\W\\\\w+)*$|^sgibp5cg8101m0q(\\\\W\\\\w+)*$|^sgibp5cg8101m0z(\\\\W\\\\w+)*$|^sgibp5cg8101m13(\\\\W\\\\w+)*$|^sgibp5cg8101m19(\\\\W\\\\w+)*$|^sgibp5cg8101m1y(\\\\W\\\\w+)*$|^sgibp5cg8101m24(\\\\W\\\\w+)*$|^sgibp5cg8101m2k(\\\\W\\\\w+)*$|^sgibp5cg8101m2z(\\\\W\\\\w+)*$|^sgibp5cg8101m3f(\\\\W\\\\w+)*$|^sgibp5cg8101m3r(\\\\W\\\\w+)*$|^sgibp5cg8101m3t(\\\\W\\\\w+)*$|^sgibp5cg8101m54(\\\\W\\\\w+)*$|^sgibp5cg8101m5s(\\\\W\\\\w+)*$|^sgibp5cg8101m5y(\\\\W\\\\w+)*$|^sgibp5cg8101m6q(\\\\W\\\\w+)*$|^sgibp5cg8101m6x(\\\\W\\\\w+)*$|^sgibp5cg8101m7n(\\\\W\\\\w+)*$|^sgibp5cg8101m7t(\\\\W\\\\w+)*$|^sgibp5cg8101m7y(\\\\W\\\\w+)*$|^sgibp5cg8101m83(\\\\W\\\\w+)*$|^sgibp5cg8101m8l(\\\\W\\\\w+)*$|^sgibp5cg8101m8s(\\\\W\\\\w+)*$|^sgibp5cg8101m93(\\\\W\\\\w+)*$|^sgibp5cg8101m9b(\\\\W\\\\w+)*$|^sgibp5cg8101m9j(\\\\W\\\\w+)*$|^sgibp5cg8101mb0(\\\\W\\\\w+)*$|^sgibp5cg8101mb9(\\\\W\\\\w+)*$|^sgibp5cg8101mc5(\\\\W\\\\w+)*$|^sgibp5cg8101mcc(\\\\W\\\\w+)*$|^sgibp5cg8101mdk(\\\\W\\\\w+)*$|^sgibp5cg8161jl0(\\\\W\\\\w+)*$|^sgibp5cg8161jlc(\\\\W\\\\w+)*$|^sgibp5cg8161jlw(\\\\W\\\\w+)*$|^sgibp5cg8161jm4(\\\\W\\\\w+)*$|^sgibp5cg8161jmh(\\\\W\\\\w+)*$|^sgibp5cg8240y65(\\\\W\\\\w+)*$|^sgibp5cg8331hx1(\\\\W\\\\w+)*$|^sgibp5cg8331hxg(\\\\W\\\\w+)*$|^sgibp5cg8331hxx(\\\\W\\\\w+)*$|^sgibp5cg8331hz7(\\\\W\\\\w+)*$|^sgibp5cg8331j0l(\\\\W\\\\w+)*$|^sgibp5cg8331j12(\\\\W\\\\w+)*$|^sgibp5cg8331j2d(\\\\W\\\\w+)*$|^sgibp5cg8331j4n(\\\\W\\\\w+)*$|^sgibp5cg8331j4y(\\\\W\\\\w+)*$|^sgibp5cg8331j58(\\\\W\\\\w+)*$|^sgibp5cg8331j5n(\\\\W\\\\w+)*$|^sgibp5cg8331j63(\\\\W\\\\w+)*$|^sgibp5cg8331j7k(\\\\W\\\\w+)*$|^sgibp5cg8331j8g(\\\\W\\\\w+)*$|^sgibp5cg8331j8s(\\\\W\\\\w+)*$|^sgibp5cg8331j98(\\\\W\\\\w+)*$|^sgibp5cg8331j9n(\\\\W\\\\w+)*$|^sgibp5cg8331jbn(\\\\W\\\\w+)*$|^sgibp5cg8331jcb(\\\\W\\\\w+)*$|^sgibp5cg8331s38(\\\\W\\\\w+)*$|^sgibp5cg8355gdc(\\\\W\\\\w+)*$|^sgibp5cg8355gf1(\\\\W\\\\w+)*$|^sgibp5cg8355ggj(\\\\W\\\\w+)*$|^sgibp5cg8355gh5(\\\\W\\\\w+)*$|^sgibp5cg8355ghd(\\\\W\\\\w+)*$|^sgibp5cg8355ghl(\\\\W\\\\w+)*$|^sgibp5cg8355gkk(\\\\W\\\\w+)*$|^sgibp5cg8355gks(\\\\W\\\\w+)*$|^sgibp5cg8355gl2(\\\\W\\\\w+)*$|^sgibp5cg8355gm1(\\\\W\\\\w+)*$|^sgibp5cg8355gm8(\\\\W\\\\w+)*$|^sgibp5cg8355gmr(\\\\W\\\\w+)*$|^sgibp5cg8355gn2(\\\\W\\\\w+)*$|^sgibp5cg8355gns(\\\\W\\\\w+)*$|^sgibp5cg8355gpb(\\\\W\\\\w+)*$|^sgibp5cg8355gpr(\\\\W\\\\w+)*$|^sgibp5cg8355gq6(\\\\W\\\\w+)*$|^sgibp5cg8355gqm(\\\\W\\\\w+)*$|^sgibp5cg8355h4n(\\\\W\\\\w+)*$|^sgibp5cg8355hbf(\\\\W\\\\w+)*$|^sgibp5cg8355hjf(\\\\W\\\\w+)*$|^sgibp5cg8421tcc(\\\\W\\\\w+)*$|^sgibp5cg84564v9(\\\\W\\\\w+)*$|^sgibp5cg84564vd(\\\\W\\\\w+)*$|^sgibp5cg84564vq(\\\\W\\\\w+)*$|^sgibp5cg84564vx(\\\\W\\\\w+)*$|^sgibp5cg84564wm(\\\\W\\\\w+)*$|^sgibp5cg84564wx(\\\\W\\\\w+)*$|^sgibp5cg84564xb(\\\\W\\\\w+)*$|^sgibp5cg84564xj(\\\\W\\\\w+)*$|^sgibp5cg84564xx(\\\\W\\\\w+)*$|^sgibp5cg84564y3(\\\\W\\\\w+)*$|^sgibp5cg84564yq(\\\\W\\\\w+)*$|^sgibp5cg84564yw(\\\\W\\\\w+)*$|^sgibp5cg8456500(\\\\W\\\\w+)*$|^sgibp5cg8456505(\\\\W\\\\w+)*$|^sgibp5cg845650d(\\\\W\\\\w+)*$|^sgibp5cg8456510(\\\\W\\\\w+)*$|^sgibp5cg8456514(\\\\W\\\\w+)*$|^sgibp5cg845654b(\\\\W\\\\w+)*$|^sgibp5cg846170y(\\\\W\\\\w+)*$|^sgibp5cg84831dj(\\\\W\\\\w+)*$|^sgibp5cg84831dk(\\\\W\\\\w+)*$|^sgibp5cg9050q34(\\\\W\\\\w+)*$|^sgibp5cg90623yt(\\\\W\\\\w+)*$|^sgibp5cg906240q(\\\\W\\\\w+)*$|^sgibp5cg906246d(\\\\W\\\\w+)*$|^sgibp5cg91900ly(\\\\W\\\\w+)*$|^sgibp5cg91900m4(\\\\W\\\\w+)*$|^sgibp5cg91900mm(\\\\W\\\\w+)*$|^sgibp5cg91900my(\\\\W\\\\w+)*$|^sgibp5cg91900n4(\\\\W\\\\w+)*$|^sgibp5cg91900nh(\\\\W\\\\w+)*$|^sgibp5cg91900nz(\\\\W\\\\w+)*$|^sgibp5cg91900pd(\\\\W\\\\w+)*$|^sgibp5cg91900pg(\\\\W\\\\w+)*$|^sgibp5cg91900py(\\\\W\\\\w+)*$|^sgibp5cg91900qk(\\\\W\\\\w+)*$|^sgibp5cg91900qr(\\\\W\\\\w+)*$|^sgibp5cg91900r7(\\\\W\\\\w+)*$|^sgibp5cg91900r9(\\\\W\\\\w+)*$|^sgibp5cg91900rj(\\\\W\\\\w+)*$|^sgibp5cg91900rn(\\\\W\\\\w+)*$|^sgibp5cg91900rt(\\\\W\\\\w+)*$|^sgibp5cg91900s4(\\\\W\\\\w+)*$|^sgibp5cg91900sb(\\\\W\\\\w+)*$|^sgibp5cg91900sf(\\\\W\\\\w+)*$|^sgibp5cg91900sj(\\\\W\\\\w+)*$|^sgibp5cg91900sm(\\\\W\\\\w+)*$|^sgibp5cg91900tj(\\\\W\\\\w+)*$|^sgibp5cg9234frs(\\\\W\\\\w+)*$|^sgibp5cg9234frt(\\\\W\\\\w+)*$|^sgibp5cg9234frv(\\\\W\\\\w+)*$|^sgibp5cg9245kfg(\\\\W\\\\w+)*$|^sgibp5cg9245kfl(\\\\W\\\\w+)*$|^sgibp5cg9245kfm(\\\\W\\\\w+)*$|^sgibp5cg9245kfn(\\\\W\\\\w+)*$|^sgibp5cg9245kfr(\\\\W\\\\w+)*$|^sgibp5cg9245kfs(\\\\W\\\\w+)*$|^sgibp5cg9245kft(\\\\W\\\\w+)*$|^sgibp5cg9245kfw(\\\\W\\\\w+)*$|^sgibp5cg9245kfz(\\\\W\\\\w+)*$|^sgibp5cg9245kg4(\\\\W\\\\w+)*$|^sgibp5cg9245kg7(\\\\W\\\\w+)*$|^sgibp5cg9245kgb(\\\\W\\\\w+)*$|^sgibp5cg9245kgg(\\\\W\\\\w+)*$|^sgibp5cg9245kgj(\\\\W\\\\w+)*$|^sgibp5cg9245kgl(\\\\W\\\\w+)*$|^sgibp5cg9245kgm(\\\\W\\\\w+)*$|^sgibp5cg931156r(\\\\W\\\\w+)*$|^sgibp5cg931156s(\\\\W\\\\w+)*$|^sgibp5cg931156t(\\\\W\\\\w+)*$|^sgibp5cg931156w(\\\\W\\\\w+)*$|^sgibp5cg931156x(\\\\W\\\\w+)*$|^sgibp5cg931156y(\\\\W\\\\w+)*$|^sgibp5cg931156z(\\\\W\\\\w+)*$|^sgibp5cg9311572(\\\\W\\\\w+)*$|^sgibp5cg9311573(\\\\W\\\\w+)*$|^sgibp5cg9311577(\\\\W\\\\w+)*$|^sgibp5cg9311578(\\\\W\\\\w+)*$|^sgibp5cg9311579(\\\\W\\\\w+)*$|^sgibp5cg931157b(\\\\W\\\\w+)*$|^sgibp5cg931157c(\\\\W\\\\w+)*$|^sgibp5cg931157d(\\\\W\\\\w+)*$|^sgibp5cg931157f(\\\\W\\\\w+)*$|^sgibp5cg931157l(\\\\W\\\\w+)*$|^sgibp5cg931157m(\\\\W\\\\w+)*$|^sgibp5cg931157p(\\\\W\\\\w+)*$|^sgibp5cg931157s(\\\\W\\\\w+)*$|^sgibp5cg931157v(\\\\W\\\\w+)*$|^sgibp5cg935511t(\\\\W\\\\w+)*$|^sgibp5cg935511v(\\\\W\\\\w+)*$|^sgibp5cg935511w(\\\\W\\\\w+)*$|^sgibp5cg9355120(\\\\W\\\\w+)*$|^sgibp5cg9355121(\\\\W\\\\w+)*$|^sgibp5cg9355123(\\\\W\\\\w+)*$|^sgibp5cg9355125(\\\\W\\\\w+)*$|^sgibp5cg9355127(\\\\W\\\\w+)*$|^sgibp5cg9355128(\\\\W\\\\w+)*$|^sgibp5cg935512b(\\\\W\\\\w+)*$|^sgibp5cg935512f(\\\\W\\\\w+)*$|^sgibp5cg935512g(\\\\W\\\\w+)*$|^sgibp5cg935512p(\\\\W\\\\w+)*$|^sgibp5cg935512r(\\\\W\\\\w+)*$|^sgibp5cg935512t(\\\\W\\\\w+)*$|^sgibp5cg935512v(\\\\W\\\\w+)*$|^sgibp5cg935512w(\\\\W\\\\w+)*$|^sgibp5cg935512y(\\\\W\\\\w+)*$|^sgibp5cg9355130(\\\\W\\\\w+)*$|^sgibp5cg9355131(\\\\W\\\\w+)*$|^sgibp5cg94351wt(\\\\W\\\\w+)*$|^sgibp5cg94351wv(\\\\W\\\\w+)*$|^sgibp5cg94351ww(\\\\W\\\\w+)*$|^sgibp5cg94351wy(\\\\W\\\\w+)*$|^sgibp5cg94351wz(\\\\W\\\\w+)*$|^sgibp5cg94351x0(\\\\W\\\\w+)*$|^sgibp5cg94351x2(\\\\W\\\\w+)*$|^sgibp5cg94351x3(\\\\W\\\\w+)*$|^sgibp5cg94351x4(\\\\W\\\\w+)*$|^sgibp5cg94351x5(\\\\W\\\\w+)*$|^sgibp5cg94351x6(\\\\W\\\\w+)*$|^sgibp5cg94351x9(\\\\W\\\\w+)*$|^sgibp5cg94351xb(\\\\W\\\\w+)*$|^sgibp5cg94351xd(\\\\W\\\\w+)*$|^sgibp5cg94351xf(\\\\W\\\\w+)*$|^sgibp5cg94351xg(\\\\W\\\\w+)*$|^sgibp5cg94351xj(\\\\W\\\\w+)*$|^sgibp5cg94351xk(\\\\W\\\\w+)*$|^sgibp5cg94351xn(\\\\W\\\\w+)*$|^sgibp5cg94351xp(\\\\W\\\\w+)*$|^sgibpsgh811stcw(\\\\W\\\\w+)*$|^sgrpc1cz9320430(\\\\W\\\\w+)*$|^sgrpc4ce0461wtj(\\\\W\\\\w+)*$|^sgrpc4ce0461wtm(\\\\W\\\\w+)*$|^sgrpc5cg032163j(\\\\W\\\\w+)*$|^sgrpc5cg032163x(\\\\W\\\\w+)*$|^sgsesxdcicr003(\\\\W\\\\w+)*$|^sgsesxdcicr004(\\\\W\\\\w+)*$|^sgsesxdcicr005(\\\\W\\\\w+)*$|^sgsesxdcicr006(\\\\W\\\\w+)*$|^sgsesxdcicr009(\\\\W\\\\w+)*$|^sgsesxdcicr010(\\\\W\\\\w+)*$|^sgsesxdcicr012(\\\\W\\\\w+)*$|^sgsesxdcicr013(\\\\W\\\\w+)*$|^sgsesxdcicr015(\\\\W\\\\w+)*$|^sgsesxdcicr016(\\\\W\\\\w+)*$|^sgsesxdcicr017(\\\\W\\\\w+)*$|^sgsesxdgnoo001(\\\\W\\\\w+)*$|^sgsesxdgnoo005(\\\\W\\\\w+)*$|^sgsesxdgnoo007(\\\\W\\\\w+)*$|^sgsesxdgnoo009(\\\\W\\\\w+)*$|^sgsesxdgnoo010(\\\\W\\\\w+)*$|^sgsesxdgnoo014(\\\\W\\\\w+)*$|^sgsesxdgnoo019(\\\\W\\\\w+)*$|^sgsesxdgnoo021(\\\\W\\\\w+)*$|^sgsesxdgnoo022(\\\\W\\\\w+)*$|^sgsesxdgnoo025(\\\\W\\\\w+)*$|^sgsesxdgnoo029(\\\\W\\\\w+)*$|^sgsesxdgnoo030(\\\\W\\\\w+)*$|^sgsesxdgnoo036(\\\\W\\\\w+)*$|^sgsesxdgnoo038(\\\\W\\\\w+)*$|^sgsesxdgnoo051(\\\\W\\\\w+)*$|^sgsesxdgnoo052(\\\\W\\\\w+)*$|^sgsesxdgnoo055(\\\\W\\\\w+)*$|^sgsesxdgnoo059(\\\\W\\\\w+)*$|^sgsesxdgsd068(\\\\W\\\\w+)*$|^sgsesxdibm315(\\\\W\\\\w+)*$|^sgsesxdibm565(\\\\W\\\\w+)*$|^sgsesxdmtr201(\\\\W\\\\w+)*$|^sgsinfss02(\\\\W\\\\w+)*$|^sgsinsccmdp2(\\\\W\\\\w+)*$|^sgsinsccmdp3(\\\\W\\\\w+)*$|^sgsinsccmws0001(\\\\W\\\\w+)*$|^sgsinsccmws0002(\\\\W\\\\w+)*$|^sgsssfaug161005(\\\\W\\\\w+)*$|^sgsst5cg60622gy(\\\\W\\\\w+)*$|^sgsst5cg60622r7(\\\\W\\\\w+)*$|^sgsst5cg606232q(\\\\W\\\\w+)*$|^sgsst5cg60700sj(\\\\W\\\\w+)*$|^us0068eb3a4475(\\\\W\\\\w+)*$|^us0068eb3a7568(\\\\W\\\\w+)*$|^us0068eb3a7569(\\\\W\\\\w+)*$|^us0068eb3a8582(\\\\W\\\\w+)*$|^us0068eb3a95ed(\\\\W\\\\w+)*$|^us8c16451956e9(\\\\W\\\\w+)*$|^us8c164519571c(\\\\W\\\\w+)*$|^us8c1645195789(\\\\W\\\\w+)*$|^us8c16451957bf(\\\\W\\\\w+)*$|^us8c1645195884(\\\\W\\\\w+)*$|^us8c1645195886(\\\\W\\\\w+)*$|^use86a64855f0b(\\\\W\\\\w+)*$|^usf8b46af09a7a(\\\\W\\\\w+)*$|^usf8b46af0ba11(\\\\W\\\\w+)*$|^usf8b46af0ba94(\\\\W\\\\w+)*$|^usf8b46af0cab3(\\\\W\\\\w+)*$'"
      ]
     },
     "execution_count": 43,
     "metadata": {},
     "output_type": "execute_result"
    }
   ],
   "source": [
    "df2.str.cat()[:-1]    #-1 index slicing to remove the last pipe"
   ]
  },
  {
   "cell_type": "code",
   "execution_count": null,
   "id": "3ded8a4b",
   "metadata": {},
   "outputs": [],
   "source": []
  }
 ],
 "metadata": {
  "kernelspec": {
   "display_name": "Python 3",
   "language": "python",
   "name": "python3"
  },
  "language_info": {
   "codemirror_mode": {
    "name": "ipython",
    "version": 3
   },
   "file_extension": ".py",
   "mimetype": "text/x-python",
   "name": "python",
   "nbconvert_exporter": "python",
   "pygments_lexer": "ipython3",
   "version": "3.7.3"
  }
 },
 "nbformat": 4,
 "nbformat_minor": 5
}
