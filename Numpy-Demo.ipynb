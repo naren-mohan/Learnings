{
 "cells": [
  {
   "cell_type": "code",
   "execution_count": 2,
   "id": "52c54886",
   "metadata": {},
   "outputs": [],
   "source": [
    "import numpy as np"
   ]
  },
  {
   "cell_type": "code",
   "execution_count": 27,
   "id": "5748ac48",
   "metadata": {},
   "outputs": [
    {
     "name": "stdout",
     "output_type": "stream",
     "text": [
      "[[   3 2224    6    5    1    3]\n",
      " [   1    2    3    2    4    5]]\n"
     ]
    }
   ],
   "source": [
    "a = np.array([[3,2224,6,5,1,3], [1,2,3,2,4,5]], dtype='int16')\n",
    "print(a)"
   ]
  },
  {
   "cell_type": "code",
   "execution_count": 11,
   "id": "25b54347",
   "metadata": {},
   "outputs": [
    {
     "data": {
      "text/plain": [
       "2"
      ]
     },
     "execution_count": 11,
     "metadata": {},
     "output_type": "execute_result"
    }
   ],
   "source": [
    "a.ndim"
   ]
  },
  {
   "cell_type": "code",
   "execution_count": 12,
   "id": "dfa820b2",
   "metadata": {},
   "outputs": [
    {
     "data": {
      "text/plain": [
       "(2, 3)"
      ]
     },
     "execution_count": 12,
     "metadata": {},
     "output_type": "execute_result"
    }
   ],
   "source": [
    "a.shape"
   ]
  },
  {
   "cell_type": "code",
   "execution_count": 15,
   "id": "44f26c83",
   "metadata": {},
   "outputs": [
    {
     "data": {
      "text/plain": [
       "dtype('int8')"
      ]
     },
     "execution_count": 15,
     "metadata": {},
     "output_type": "execute_result"
    }
   ],
   "source": [
    "a.dtype"
   ]
  },
  {
   "cell_type": "code",
   "execution_count": 21,
   "id": "29f71943",
   "metadata": {},
   "outputs": [
    {
     "data": {
      "text/plain": [
       "6"
      ]
     },
     "execution_count": 21,
     "metadata": {},
     "output_type": "execute_result"
    }
   ],
   "source": [
    "a.nbytes"
   ]
  },
  {
   "cell_type": "code",
   "execution_count": 22,
   "id": "54a30d45",
   "metadata": {},
   "outputs": [
    {
     "data": {
      "text/plain": [
       "3"
      ]
     },
     "execution_count": 22,
     "metadata": {},
     "output_type": "execute_result"
    }
   ],
   "source": [
    "a[1,2]"
   ]
  },
  {
   "cell_type": "code",
   "execution_count": 23,
   "id": "90c209ce",
   "metadata": {},
   "outputs": [
    {
     "data": {
      "text/plain": [
       "array([[4, 6],\n",
       "       [2, 3]], dtype=int8)"
      ]
     },
     "execution_count": 23,
     "metadata": {},
     "output_type": "execute_result"
    }
   ],
   "source": [
    "a[:, 1:]"
   ]
  },
  {
   "cell_type": "code",
   "execution_count": 25,
   "id": "88800f97",
   "metadata": {},
   "outputs": [
    {
     "data": {
      "text/plain": [
       "array([[4, 5],\n",
       "       [2, 2]], dtype=int8)"
      ]
     },
     "execution_count": 25,
     "metadata": {},
     "output_type": "execute_result"
    }
   ],
   "source": [
    "a[:, 1:5:2]"
   ]
  },
  {
   "cell_type": "code",
   "execution_count": 42,
   "id": "99024bac",
   "metadata": {},
   "outputs": [],
   "source": [
    "z = np.zeros((2,2))\n",
    "ones = np.ones((2,4), dtype = 'int8')\n",
    "f = np.full((3,4), 69)\n",
    "fl = np.full_like(f, 420)"
   ]
  },
  {
   "cell_type": "code",
   "execution_count": 43,
   "id": "e8b87a69",
   "metadata": {},
   "outputs": [
    {
     "data": {
      "text/plain": [
       "array([[420, 420, 420, 420],\n",
       "       [420, 420, 420, 420],\n",
       "       [420, 420, 420, 420]])"
      ]
     },
     "execution_count": 43,
     "metadata": {},
     "output_type": "execute_result"
    }
   ],
   "source": [
    "fl"
   ]
  },
  {
   "cell_type": "code",
   "execution_count": 51,
   "id": "0926e59d",
   "metadata": {},
   "outputs": [
    {
     "data": {
      "text/plain": [
       "array([[14, 48],\n",
       "       [50, 36],\n",
       "       [52, 59],\n",
       "       [48, 55],\n",
       "       [34, 44]])"
      ]
     },
     "execution_count": 51,
     "metadata": {},
     "output_type": "execute_result"
    }
   ],
   "source": [
    "np.random.rand(5,2) #random decimal nums\n",
    "np.random.randint(8, 69, size=(5,2)) #random int nums"
   ]
  },
  {
   "cell_type": "raw",
   "id": "3219dd3c",
   "metadata": {},
   "source": []
  },
  {
   "cell_type": "code",
   "execution_count": 53,
   "id": "c5468053",
   "metadata": {},
   "outputs": [
    {
     "data": {
      "text/plain": [
       "array([[1, 0, 0, 0],\n",
       "       [0, 1, 0, 0],\n",
       "       [0, 0, 1, 0],\n",
       "       [0, 0, 0, 1]], dtype=int8)"
      ]
     },
     "execution_count": 53,
     "metadata": {},
     "output_type": "execute_result"
    }
   ],
   "source": [
    "np.identity(4, dtype='int8')"
   ]
  },
  {
   "cell_type": "code",
   "execution_count": 65,
   "id": "ee180047",
   "metadata": {},
   "outputs": [
    {
     "data": {
      "text/plain": [
       "array([[1, 2, 3],\n",
       "       [1, 2, 3],\n",
       "       [1, 2, 3],\n",
       "       [1, 2, 3],\n",
       "       [1, 2, 3]])"
      ]
     },
     "execution_count": 65,
     "metadata": {},
     "output_type": "execute_result"
    }
   ],
   "source": [
    "np.repeat(np.array([[1,2,3]]), 5, axis=0)"
   ]
  },
  {
   "cell_type": "code",
   "execution_count": 73,
   "id": "7d801f61",
   "metadata": {},
   "outputs": [],
   "source": [
    "#challenge at 31:55\n",
    "one = np.ones((5,5), dtype='int32')\n",
    "one[1:4, 1:4] = np.zeros((3,3))\n",
    "one[2,2] = 9"
   ]
  },
  {
   "cell_type": "code",
   "execution_count": 74,
   "id": "3f17c36c",
   "metadata": {},
   "outputs": [
    {
     "data": {
      "text/plain": [
       "array([[1, 1, 1, 1, 1],\n",
       "       [1, 0, 0, 0, 1],\n",
       "       [1, 0, 9, 0, 1],\n",
       "       [1, 0, 0, 0, 1],\n",
       "       [1, 1, 1, 1, 1]])"
      ]
     },
     "execution_count": 74,
     "metadata": {},
     "output_type": "execute_result"
    }
   ],
   "source": [
    "one"
   ]
  },
  {
   "cell_type": "code",
   "execution_count": 75,
   "id": "87414756",
   "metadata": {},
   "outputs": [],
   "source": [
    "###Be careful when copying the array!"
   ]
  },
  {
   "cell_type": "code",
   "execution_count": 78,
   "id": "757ae5b8",
   "metadata": {},
   "outputs": [
    {
     "name": "stdout",
     "output_type": "stream",
     "text": [
      "[1 2 3]\n",
      "[69  2  3]\n"
     ]
    }
   ],
   "source": [
    "a = np.array([1,2,3])\n",
    "b = a  #use .copy -- b = a.copy()\n",
    "print(a)\n",
    "b[0] = 69\n",
    "print(a)"
   ]
  },
  {
   "cell_type": "code",
   "execution_count": 79,
   "id": "8371813e",
   "metadata": {},
   "outputs": [],
   "source": [
    "####Some MATH"
   ]
  },
  {
   "cell_type": "code",
   "execution_count": 80,
   "id": "0704db1c",
   "metadata": {},
   "outputs": [
    {
     "data": {
      "text/plain": [
       "array([69,  2,  3])"
      ]
     },
     "execution_count": 80,
     "metadata": {},
     "output_type": "execute_result"
    }
   ],
   "source": [
    "a"
   ]
  },
  {
   "cell_type": "code",
   "execution_count": 81,
   "id": "c8a6b8e4",
   "metadata": {},
   "outputs": [
    {
     "data": {
      "text/plain": [
       "array([71,  4,  5])"
      ]
     },
     "execution_count": 81,
     "metadata": {},
     "output_type": "execute_result"
    }
   ],
   "source": [
    "a + 2 "
   ]
  },
  {
   "cell_type": "code",
   "execution_count": 84,
   "id": "8897da52",
   "metadata": {},
   "outputs": [
    {
     "data": {
      "text/plain": [
       "array([75,  8,  9])"
      ]
     },
     "execution_count": 84,
     "metadata": {},
     "output_type": "execute_result"
    }
   ],
   "source": [
    "a += 2\n",
    "a"
   ]
  },
  {
   "cell_type": "code",
   "execution_count": 85,
   "id": "911bd1de",
   "metadata": {},
   "outputs": [
    {
     "data": {
      "text/plain": [
       "array([1.5625    , 0.16666667, 0.1875    ])"
      ]
     },
     "execution_count": 85,
     "metadata": {},
     "output_type": "execute_result"
    }
   ],
   "source": [
    "a/48"
   ]
  },
  {
   "cell_type": "code",
   "execution_count": 89,
   "id": "15a671dc",
   "metadata": {},
   "outputs": [
    {
     "data": {
      "text/plain": [
       "dtype('float64')"
      ]
     },
     "execution_count": 89,
     "metadata": {},
     "output_type": "execute_result"
    }
   ],
   "source": [
    "(a/45).dtype"
   ]
  },
  {
   "cell_type": "code",
   "execution_count": 92,
   "id": "64aeaeb1",
   "metadata": {},
   "outputs": [
    {
     "data": {
      "text/plain": [
       "array([ 0.92175127, -0.14550003, -0.91113026])"
      ]
     },
     "execution_count": 92,
     "metadata": {},
     "output_type": "execute_result"
    }
   ],
   "source": [
    "np.sin(a)\n",
    "np.cos(a)"
   ]
  },
  {
   "cell_type": "markdown",
   "id": "64ad1557",
   "metadata": {},
   "source": [
    "#### Linear Algebra!"
   ]
  },
  {
   "cell_type": "code",
   "execution_count": 93,
   "id": "5cca81c4",
   "metadata": {},
   "outputs": [],
   "source": [
    "a = np.full((2,3), 4)\n",
    "b = np.full((3,4), 5)"
   ]
  },
  {
   "cell_type": "code",
   "execution_count": 94,
   "id": "c05ca866",
   "metadata": {},
   "outputs": [
    {
     "data": {
      "text/plain": [
       "array([[60, 60, 60, 60],\n",
       "       [60, 60, 60, 60]])"
      ]
     },
     "execution_count": 94,
     "metadata": {},
     "output_type": "execute_result"
    }
   ],
   "source": [
    "np.matmul(a,b)"
   ]
  },
  {
   "cell_type": "code",
   "execution_count": 97,
   "id": "5aa36a5c",
   "metadata": {},
   "outputs": [
    {
     "data": {
      "text/plain": [
       "1.0"
      ]
     },
     "execution_count": 97,
     "metadata": {},
     "output_type": "execute_result"
    }
   ],
   "source": [
    "np.linalg.det(np.identity(3))"
   ]
  },
  {
   "cell_type": "markdown",
   "id": "01ac89b2",
   "metadata": {},
   "source": [
    "### Statistics!"
   ]
  },
  {
   "cell_type": "code",
   "execution_count": 99,
   "id": "2c9193d9",
   "metadata": {},
   "outputs": [],
   "source": [
    "stats = np.array([[1,3,5], [2,4,6]])"
   ]
  },
  {
   "cell_type": "code",
   "execution_count": 103,
   "id": "ce951c97",
   "metadata": {},
   "outputs": [
    {
     "data": {
      "text/plain": [
       "array([1, 3, 5])"
      ]
     },
     "execution_count": 103,
     "metadata": {},
     "output_type": "execute_result"
    }
   ],
   "source": [
    "np.min(stats, axis=0)"
   ]
  },
  {
   "cell_type": "code",
   "execution_count": 105,
   "id": "0914301d",
   "metadata": {},
   "outputs": [
    {
     "data": {
      "text/plain": [
       "array([5, 6])"
      ]
     },
     "execution_count": 105,
     "metadata": {},
     "output_type": "execute_result"
    }
   ],
   "source": [
    "np.max(stats, axis=1)"
   ]
  },
  {
   "cell_type": "code",
   "execution_count": 107,
   "id": "f7a023dc",
   "metadata": {},
   "outputs": [
    {
     "data": {
      "text/plain": [
       "array([ 3,  7, 11])"
      ]
     },
     "execution_count": 107,
     "metadata": {},
     "output_type": "execute_result"
    }
   ],
   "source": [
    "np.sum(stats)\n",
    "np.sum(stats, axis = 0)"
   ]
  },
  {
   "cell_type": "markdown",
   "id": "60258712",
   "metadata": {},
   "source": [
    "### Reorganizing stuff - hstack, vstack"
   ]
  },
  {
   "cell_type": "code",
   "execution_count": 114,
   "id": "fb7ab616",
   "metadata": {},
   "outputs": [],
   "source": [
    "a = np.array([[1,2,3,4], [4,5,6,8]])"
   ]
  },
  {
   "cell_type": "code",
   "execution_count": 113,
   "id": "5ead9333",
   "metadata": {},
   "outputs": [
    {
     "data": {
      "text/plain": [
       "array([[1, 2, 3, 4, 4, 5, 6, 8]])"
      ]
     },
     "execution_count": 113,
     "metadata": {},
     "output_type": "execute_result"
    }
   ],
   "source": [
    "a.reshape((1,8))"
   ]
  },
  {
   "cell_type": "code",
   "execution_count": 118,
   "id": "bc2df514",
   "metadata": {},
   "outputs": [
    {
     "data": {
      "text/plain": [
       "array([[1, 2, 3, 4],\n",
       "       [1, 2, 3, 4],\n",
       "       [1, 2, 3, 4],\n",
       "       [4, 5, 6, 8],\n",
       "       [1, 2, 3, 4]])"
      ]
     },
     "execution_count": 118,
     "metadata": {},
     "output_type": "execute_result"
    }
   ],
   "source": [
    "#vertical stack vectors\n",
    "np.vstack([a[0,:],a[0,:],a,a[0,:]])"
   ]
  },
  {
   "cell_type": "code",
   "execution_count": 119,
   "id": "9e062aa6",
   "metadata": {},
   "outputs": [
    {
     "data": {
      "text/plain": [
       "array([[1, 2, 3, 4, 1, 2, 3, 4],\n",
       "       [4, 5, 6, 8, 4, 5, 6, 8]])"
      ]
     },
     "execution_count": 119,
     "metadata": {},
     "output_type": "execute_result"
    }
   ],
   "source": [
    "np.hstack([a,a])"
   ]
  },
  {
   "cell_type": "markdown",
   "id": "13777697",
   "metadata": {},
   "source": [
    "### Reading data from files"
   ]
  },
  {
   "cell_type": "code",
   "execution_count": null,
   "id": "8f742c81",
   "metadata": {},
   "outputs": [],
   "source": [
    "filedata = np.genfromtxt('filename.txt', delimiter = ',')\n",
    "filedata = filedata.astype('int8')"
   ]
  },
  {
   "cell_type": "code",
   "execution_count": null,
   "id": "396b25f7",
   "metadata": {},
   "outputs": [],
   "source": [
    "np.any(filedata > 50, axis = 0)"
   ]
  },
  {
   "cell_type": "code",
   "execution_count": 138,
   "id": "b246b7a3",
   "metadata": {},
   "outputs": [
    {
     "data": {
      "text/plain": [
       "array([[ 1,  2,  3,  4,  5],\n",
       "       [ 6,  7,  8,  9, 10],\n",
       "       [11, 12, 13, 14, 15],\n",
       "       [16, 17, 18, 19, 20],\n",
       "       [21, 22, 23, 24, 25],\n",
       "       [26, 27, 28, 29, 30]])"
      ]
     },
     "execution_count": 138,
     "metadata": {},
     "output_type": "execute_result"
    }
   ],
   "source": [
    "i = np.array([1,2,3,4,5])\n",
    "a = np.vstack((i,i+5,i+10,i+15,i+20,i+25))\n",
    "a"
   ]
  },
  {
   "cell_type": "code",
   "execution_count": 136,
   "id": "0633a715",
   "metadata": {},
   "outputs": [
    {
     "data": {
      "text/plain": [
       "array([ 2,  8, 14, 20])"
      ]
     },
     "execution_count": 136,
     "metadata": {},
     "output_type": "execute_result"
    }
   ],
   "source": [
    "a[((a % 6 == 2) & (a <= 20))]"
   ]
  },
  {
   "cell_type": "code",
   "execution_count": 137,
   "id": "64348996",
   "metadata": {},
   "outputs": [
    {
     "data": {
      "text/plain": [
       "array([ 7, 13, 19, 25])"
      ]
     },
     "execution_count": 137,
     "metadata": {},
     "output_type": "execute_result"
    }
   ],
   "source": [
    "a[[1,2,3,4], [1,2,3,4]]"
   ]
  },
  {
   "cell_type": "code",
   "execution_count": 143,
   "id": "6fa2db57",
   "metadata": {},
   "outputs": [
    {
     "data": {
      "text/plain": [
       "array([[ 4,  5],\n",
       "       [24, 25],\n",
       "       [29, 30]])"
      ]
     },
     "execution_count": 143,
     "metadata": {},
     "output_type": "execute_result"
    }
   ],
   "source": [
    "a[[0, 4, 5], 3:]"
   ]
  },
  {
   "cell_type": "code",
   "execution_count": null,
   "id": "a8c7744b",
   "metadata": {},
   "outputs": [],
   "source": []
  }
 ],
 "metadata": {
  "kernelspec": {
   "display_name": "Python 3",
   "language": "python",
   "name": "python3"
  },
  "language_info": {
   "codemirror_mode": {
    "name": "ipython",
    "version": 3
   },
   "file_extension": ".py",
   "mimetype": "text/x-python",
   "name": "python",
   "nbconvert_exporter": "python",
   "pygments_lexer": "ipython3",
   "version": "3.7.3"
  }
 },
 "nbformat": 4,
 "nbformat_minor": 5
}
